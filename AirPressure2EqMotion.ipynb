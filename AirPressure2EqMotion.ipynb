{
  "nbformat": 4,
  "nbformat_minor": 0,
  "metadata": {
    "colab": {
      "private_outputs": true,
      "provenance": [],
      "collapsed_sections": [
        "H8bqOYJtk9ri",
        "D5iFUPsv8sDv",
        "AnO_Bcbm4Gdl",
        "-Cr-fSId4e5o",
        "t7PEExBAvun9"
      ],
      "authorship_tag": "ABX9TyP2clZ+TLsXFm0Eo3QDmsFO",
      "include_colab_link": true
    },
    "kernelspec": {
      "name": "python3",
      "display_name": "Python 3"
    },
    "language_info": {
      "name": "python"
    }
  },
  "cells": [
    {
      "cell_type": "markdown",
      "metadata": {
        "id": "view-in-github",
        "colab_type": "text"
      },
      "source": [
        "<a href=\"https://colab.research.google.com/github/HugoDelgado/SanfordYatesBarometer/blob/main/AirPressure2EqMotion.ipynb\" target=\"_parent\"><img src=\"https://colab.research.google.com/assets/colab-badge.svg\" alt=\"Open In Colab\"/></a>"
      ]
    },
    {
      "cell_type": "markdown",
      "source": [
        "# Foreword to teachers\n",
        "\n",
        "Consider using this notebook after the student has some experience with Google Colab, Python and Graphs."
      ],
      "metadata": {
        "id": "H8bqOYJtk9ri"
      }
    },
    {
      "cell_type": "markdown",
      "source": [
        "## Implementation plan\n",
        "### Before\n",
        "1. Prepare students for the use of Google Colab notebooks\n",
        "*   Use a scafolding methodology using notebooks of increasing complexity.\n",
        "*   Loading data into Google Colab\n",
        "*   Formulas and expressions\n",
        "*   Graphs and Plotting\n",
        "2. Discuss Pressure, Barometers\n",
        "3. Kinematics Unit\n",
        "*   Movement\n",
        "*   Graphs of motion\n",
        "*   Acceleration\n",
        "4. Discuss Phypox sensors\n",
        "\n",
        "### During\n",
        "1. Use this activity to introduce neutrinos and DUNE\n",
        "2. Show pictures of the site and diagrams\n",
        "3. Discuss objectives\n",
        "4. Review concepts:\n",
        "*   average velocity\n",
        "*   acceleration\n",
        "*   graphs of motion\n",
        "5. Have students run the notebook\n",
        "6. Students discuss result in small groups\n",
        "7. Students submit indivual reports with answers\n",
        "\n",
        "### After\n",
        "1. Discuss limitations/improvements of the data\n",
        "2. Have students suggest similar projects\n",
        "3. Encourage students to learn about DUNE and neutrinos."
      ],
      "metadata": {
        "id": "gsa0RBTW91cc"
      }
    },
    {
      "cell_type": "markdown",
      "source": [
        "## Curricular Alignment according to PR Department of Education\n",
        "\n",
        "*Rough translation by author*\n",
        "\n",
        "**Unit F.1 Science and Engineering practices**\n",
        "*   ES.F.IT1.1 Identifies real life situations where physics can be applied to explain/understand the behavior of matter and how the universe works\n",
        "*   ES.F.IT1.2 The student uses the International System of Units and scientific notation to make conversions between units and expresses them with the correct number of significant digits as well as solving physics equations for unknowns.\n",
        "*   ES.F.IT1.3 Represents and calculates the magnitude and direction of vectorial quantities by graphical methods as well as mathematical methods [...]\n",
        "\n",
        "**Unit F.2 Movement (Kinematics)**\n",
        "*   ES.F1.1 Uses models to explain movement in one dimension, through verbal, graphical and algebraic methods including concepts such as distance, displacement, speed, velocity and acceleration."
      ],
      "metadata": {
        "id": "wU8wt56c9uGJ"
      }
    },
    {
      "cell_type": "markdown",
      "source": [
        "# Section 1 Load and Visualize Data\n",
        "\n"
      ],
      "metadata": {
        "id": "D5iFUPsv8sDv"
      }
    },
    {
      "cell_type": "markdown",
      "source": [
        "## Objectives\n",
        "\n",
        "In this activity you will interpret a model to estimate the average velocity and acceleration of an elevator. First we will use air pressure to estimate the height of the elevator and then we will use the *position as a function of time* equation to model the movement of the elevator.\n",
        "\n",
        "Run each cell and answer the questions in your [lab report](https://docs.google.com/document/d/1-1P4qSqyAHMK7Jr727Oh-LH0fM9BikgA/edit?usp=share_link&ouid=103328514516496243329&rtpof=true&sd=true)\n",
        "![link text](https://sanfordlab.org/sites/default/files/styles/2x_large_2200w_815h/public/images/hero/yatesshaft-hero.jpg.webp?itok=0DxxBbzo)\n",
        "Picture of the Sanford Underground Research Facility (SURF) at the  Homestead Gold Mine in South Datoka."
      ],
      "metadata": {
        "id": "ZNh9gC3ByRav"
      }
    },
    {
      "cell_type": "code",
      "source": [
        "# this cell only needs to be run once, but re-exectuing it doesn't hurt anything either\n",
        "# imports software packages (not too exciting)\n",
        "import pandas as pd\n",
        "import numpy as np\n",
        "%matplotlib inline\n",
        "import matplotlib as mpl\n",
        "import matplotlib.pyplot as plt"
      ],
      "metadata": {
        "id": "CXLWHHKY5IVw"
      },
      "execution_count": null,
      "outputs": []
    },
    {
      "cell_type": "markdown",
      "source": [
        "## What is in the data?\n",
        "\n",
        "A group of physics teachers visited the Sanford Underground Research Facility (SURF) in South Dakota on the 31st of may 2024. It is near Sioux Falls so you can check how is the [Weather](https://weatherspark.com/h/m/9059/2024/5/Historical-Weather-in-May-2024-in-Sioux-Falls-South-Dakota-United-States) there. The place used to be a gold mine and had a [shaft with an elevator](https://sanfordlab.org/news/how-it-works-yates-hoistroom) that went 1.5 km down the surface. The teachers managed to record the air pressure versus time as they went down the Ross Shaft at 12 pm.\n",
        "\n",
        "Using the following notebook you will\n",
        "\n",
        "1. Make a plot of the raw data\n",
        "2. Create a new Column with the heigh data calculating it from the Pressure data.\n",
        "3. Use this new column to estimate the velocity and acceleration of the elevator as it goes down the shaft.\n"
      ],
      "metadata": {
        "id": "bO4p6DYa3mFs"
      }
    },
    {
      "cell_type": "code",
      "source": [
        "# File path to the raw data in github\n",
        "file_path = 'https://raw.githubusercontent.com/HugoDelgado/SanfordYatesBarometer/refs/heads/main/BarometerPressureGoindDown.csv'\n",
        "\n",
        "pressureSD = pd.read_csv(file_path)\n",
        "# Pressure is in hPa\n",
        "# Time is in seconds\n",
        "pressureSD.head(5)"
      ],
      "metadata": {
        "id": "1cjgvRV05Vec"
      },
      "execution_count": null,
      "outputs": []
    },
    {
      "cell_type": "code",
      "execution_count": null,
      "metadata": {
        "id": "j30nadI43ZYh"
      },
      "outputs": [],
      "source": [
        "x=pressureSD['Time'] # time column in seconds\n",
        "y=pressureSD['Pressure'] # pressure in hPa\n",
        "\n",
        " # defines the graph as a scatterplot with x and y\n",
        "plt.scatter(x,y, s=2)\n",
        "plt.title(\"Pressure vs Time in Homestead Mine Elevator\")\n",
        "plt.xlabel(\"Time (s)\")\n",
        "plt.ylabel(\"Pressure (hPa)\")\n",
        "plt.show()"
      ]
    },
    {
      "cell_type": "markdown",
      "source": [
        "## Questions for the student\n",
        "1. What does the graph tell you?\n",
        "2. Why is the graph increasing?\n",
        "3. Why does the shape of the graph changes near the end? What did you think happened in the elevator?\n",
        "4. Should the air pressure increase or decrease as you go down?"
      ],
      "metadata": {
        "id": "be85T_aqSlEl"
      }
    },
    {
      "cell_type": "markdown",
      "source": [
        "## Pressure to Depth conversion\n",
        "![](https://ewscripps.brightspotcdn.com/dims4/default/b6e80b1/2147483647/strip/true/crop/1920x1080+0+0/resize/2560x1440!/quality/90/?url=http%3A%2F%2Fewscripps-brightspot.s3.amazonaws.com%2F87%2F54%2F515894ea42ef90e0bbc3612537d5%2Foxygen-mountain-gfx.jpg)\n",
        "As you go down the mine shaft the air pressure increases because there is more air above you.\n",
        "\n",
        "We could use this to calculate the height (distance). The height is related to the air pressure using the relative pressure equation.\n",
        "\n",
        "$h = \\frac{P - P_{atm}}{(ρ \\cdot g)}$\n",
        "\n",
        "Where\n",
        "\n",
        "1. $h$ height in $m$\n",
        "2. $P_{atm}$ atmospheric pressure at the top of the shaft in $Pa$\n",
        "3. $\\rho$ density of air $kg/m^3$\n",
        "4. $g$ acceleration of gravity near the surface of the earth $m/s^2$.\n",
        "\n",
        "![](https://americanbusinesshistory.org/wp-content/uploads/2021/08/HomestakeMineLeadSD.jpeg)"
      ],
      "metadata": {
        "id": "lhghHs3F36bh"
      }
    },
    {
      "cell_type": "markdown",
      "source": [
        "### Note on the data\n",
        "\n",
        "If you look at the picture the elevator is parked a few\n",
        "meters down the surface. The teachers visited the 4850 ft\n",
        "level.\n",
        "\n",
        "**Challenge**: use the web to find the atmospheric pressure\n",
        "at the surface in South Dakota at the date of the visit."
      ],
      "metadata": {
        "id": "2EGZzMaN6655"
      }
    },
    {
      "cell_type": "code",
      "source": [
        "# Value of Constants\n",
        "g = 9.81\n",
        "rho = 1.275\n",
        "Patm = 838.60497 # This is the pressure of the first cell"
      ],
      "metadata": {
        "id": "qptPd6QZGrId"
      },
      "execution_count": null,
      "outputs": []
    },
    {
      "cell_type": "code",
      "source": [
        "t=pressureSD['Time'] # put the values of time in x\n",
        "\n",
        "# Create a new column called depth using the equation\n",
        "# Convert to km by dividing by 10\n",
        "pressureSD['Height'] = (1/10)*(Patm - pressureSD['Pressure'])/(rho*g)\n",
        "x=pressureSD['Height'] # put the values of the time in y\n",
        "plt.scatter(t,x, s=1) # defines the graph as a scatterplot with x and y\n",
        "plt.title(\"Height vs Time Doing Down\")\n",
        "plt.xlabel(\"Time (s)\")\n",
        "plt.ylabel(\"Height (km)\")\n",
        "plt.axvline(x=580, color='r', linestyle='--')\n",
        "plt.axvline(x=600, color='r', linestyle='--')\n",
        "plt.annotate(\"I\",xy=(300,-0.2),size=20)\n",
        "plt.annotate(\"II\",xy=(620,-0.2),size=20)\n",
        "plt.show()"
      ],
      "metadata": {
        "id": "OtmiX5du4CON"
      },
      "execution_count": null,
      "outputs": []
    },
    {
      "cell_type": "markdown",
      "source": [
        "## Understand the data\n",
        "\n",
        "1. How would you describe the plot?\n",
        "2. During what interval was the elevator accelerating?\n",
        "3. During what time interval was the elevator going at constant speed?\n",
        "4. Why is the graph decreasing?"
      ],
      "metadata": {
        "id": "Ks_MHmI2OxhI"
      }
    },
    {
      "cell_type": "markdown",
      "source": [
        "# Section 2 Analyze the data"
      ],
      "metadata": {
        "id": "AnO_Bcbm4Gdl"
      }
    },
    {
      "cell_type": "markdown",
      "source": [
        "## Filter the data\n",
        "\n",
        "You can see that the elevator has at least two distinct movements. The elevator moved at constant speed and then slowed down right at the end. We can split the data into two segments and analize it separately. There is a small segment of data we leave out to simplify our model of the movement."
      ],
      "metadata": {
        "id": "uBfy3hx0yIiW"
      }
    },
    {
      "cell_type": "code",
      "source": [
        "# Plot data before 580s\n",
        "filtered = pressureSD.query('Time < 580')\n",
        "t=filtered['Time'] #asign the time column to x\n",
        "x=filtered['Height'] # asign the depth column to y\n",
        "plt.scatter(t,x,s=1) # defines the graph as a scatterplot with x and y\n",
        "plt.title(\"Height vs Time during Constant Velocity Interval\")\n",
        "plt.xlabel(\"Time (s)\")\n",
        "plt.ylabel(\"Height (km)\")\n",
        "plt.show()"
      ],
      "metadata": {
        "id": "rhmO1Fym4K5d"
      },
      "execution_count": null,
      "outputs": []
    },
    {
      "cell_type": "markdown",
      "source": [
        "## Interpret the data\n",
        "\n",
        "1. Is the graph increasing or decreasing?\n",
        "2. What does the slope of the graph represents?\n",
        "3. Why are the values of distance negative?\n",
        "4. How long did the elevator move at constant speed? Give your answer in seconds and convert to minutes."
      ],
      "metadata": {
        "id": "WA4_5QaOTGCX"
      }
    },
    {
      "cell_type": "markdown",
      "source": [
        "# Section 3 Model the data"
      ],
      "metadata": {
        "id": "-Cr-fSId4e5o"
      }
    },
    {
      "cell_type": "markdown",
      "source": [
        "## The equation of motion\n",
        "\n",
        "The equation of position as a function of time is:\n",
        "\n",
        "$x_f = \\frac{1}{2} a t^2 + v_i t + x_i$\n",
        "\n",
        "Where:\n",
        "\n",
        "*   $a$ acceleration in $m/s^2$\n",
        "*   $t$ time in $s$\n",
        "*   $v_i$ initial velocity in $m/s$\n",
        "*   $x_f$ final position in $m$\n",
        "*   $x_i$ initial position in $m$\n",
        "\n",
        "If the acceleration is $0$ $m/s^2$, the object is moving at constant velocity and the equation becomes:\n",
        "\n",
        "$x_f = v_i t + x_i$\n",
        "\n"
      ],
      "metadata": {
        "id": "vw0BD8GSy00Q"
      }
    },
    {
      "cell_type": "markdown",
      "source": [
        "## Constant Velocity Interval\n",
        "Lets look first at the data from the begining up to 580 seconds.\n",
        "\n",
        "If we look at the graph it is a straigt line.\n",
        "\n",
        "We can do a linear fit to the data and find the average speed of the elevator going down the shaft."
      ],
      "metadata": {
        "id": "yVNfgG431rHl"
      }
    },
    {
      "cell_type": "code",
      "source": [
        "# Now we can fit the data to a polynominal fit\n",
        "v, x0 = np.polyfit(t, x, deg=1)\n",
        "legend_text = f'$x_f$ = {v:.2g}$t$ + {x0:.2f}'\n",
        "# Notice we change the 'y' values to be the polynominal equation\n",
        "plt.plot(t, v*t + x0, linewidth=3, color=\"r\",alpha=0.5)\n",
        "plt.scatter(t, x, s=3, alpha=1, color='b',label=legend_text)\n",
        "plt.title(\"Height vs Time during Constant Velocity Interval\")\n",
        "plt.xlabel(\"Time (s)\")\n",
        "plt.ylabel(\"Height (km)\")\n",
        "plt.legend()\n",
        "plt.show()"
      ],
      "metadata": {
        "id": "BARPdFwV4hxv"
      },
      "execution_count": null,
      "outputs": []
    },
    {
      "cell_type": "markdown",
      "source": [
        "### Analyze the model\n",
        "\n",
        "1. What is the average velocity of the elevator?\n",
        "\n",
        "*   The speed of the elevator going down the shaft is _______ km/s which means _______ m/s or _______ feet/minute.\n",
        "\n",
        "2. How deep did the elevator go during this interval? Give your answer in km.\n",
        "3. Is the best fit (red line) a good approximation for your data (blue dots)?"
      ],
      "metadata": {
        "id": "xHlW-IPuTt2i"
      }
    },
    {
      "cell_type": "markdown",
      "source": [
        "## Model the acceleration\n",
        "\n",
        "\n",
        "Now lets look at the segment after 600 seconds to see how the elevator descelerates."
      ],
      "metadata": {
        "id": "uY-Y2feA4mfc"
      }
    },
    {
      "cell_type": "code",
      "source": [
        "filtered = pressureSD.query('Time > 600')\n",
        "t2=filtered['Time']\n",
        "x2=filtered['Height']\n",
        "plt.scatter(t2,x2, s=1,color='b') # defines the graph as a scatterplot with x and y\n",
        "plt.title(\"Height vs Time During Second Interval\")\n",
        "plt.xlabel(\"Time (s)\")\n",
        "plt.ylabel(\"Height (km)\")\n",
        "plt.show()"
      ],
      "metadata": {
        "id": "a-zOshwC4qJk"
      },
      "execution_count": null,
      "outputs": []
    },
    {
      "cell_type": "markdown",
      "source": [
        "## Evaluate the data\n",
        "\n",
        "1. How would you describe the graph? What does it represent?\n",
        "2. Is the speed of the elevator changing?\n",
        "3. What do you think would be the final speed of an elevator once it arrives to its destination?"
      ],
      "metadata": {
        "id": "4Qb_ivBnUTW9"
      }
    },
    {
      "cell_type": "markdown",
      "source": [
        "We need to fit a quadratic which is a polynomial of degree 2."
      ],
      "metadata": {
        "id": "coSbrdmX4voh"
      }
    },
    {
      "cell_type": "code",
      "source": [
        "# Now we can fit the data to a polynominal fit\n",
        "a, vi, x0 = np.polyfit(t2, x2, deg=2)\n",
        "legend_text = f'$x_f$ = {a:.2g}$t^2$ + {vi:.2f}$t$ + {x0:.2f}'\n",
        "# Notice we change the 'y' values to be the polynominal equation\n",
        "plt.plot(t2, a*t2**2 + vi*t2 + x0, linewidth=2, color=\"r\",alpha=0.5)\n",
        "plt.scatter(t2, x2, s=20, alpha=1, edgecolors='blue', label=legend_text)\n",
        "plt.title(\"Height vs Time During Second Interval\")\n",
        "plt.xlabel(\"Time (s)\")\n",
        "plt.ylabel(\"Height (km)\")\n",
        "plt.legend()\n",
        "plt.show()"
      ],
      "metadata": {
        "id": "tM6DP8fr4tmx"
      },
      "execution_count": null,
      "outputs": []
    },
    {
      "cell_type": "markdown",
      "source": [
        "### Analyze the results\n",
        "1. Is the model (red line) a good approximation for the data (blue dots)?\n",
        "2. According to the best fit model, what is the initial velocity of this graph in km/s?\n",
        "3. According to the best fit model, what is the magnitude of the acceleration during this time interval?\n",
        "\n",
        "### Challenge\n",
        "\n",
        "The model represents an elevator that is aproaching its destination. The elevator moved at constant velocity down the shaft and during the final approach it *slowed down*. The model gives a positive sign for the acceleration.\n",
        "\n",
        "Could you explain why (or why not) the sign of this model is correct? *Hint:* remember that the velocity is a vector going down."
      ],
      "metadata": {
        "id": "gumHPzm2U9zV"
      }
    },
    {
      "cell_type": "markdown",
      "source": [
        "# Conclussion\n"
      ],
      "metadata": {
        "id": "t7PEExBAvun9"
      }
    },
    {
      "cell_type": "markdown",
      "source": [
        "## What is down there?\n",
        "\n",
        "The mine has been converted into a research facility that hosts several important experiments. Right now the Deep Undergrouns Neutrino Experiment (DUNE) is under construction.\n",
        "\n",
        "![](https://www.dunescience.org/wp-content/uploads/2016/12/LBNE_Graphic_061615_2016.jpg)\n",
        "\n",
        "It aims to solve fundamental questions of physics such as:\n",
        "\n",
        "*   What is the origin of matter?\n",
        "*   What happens when black holes form?\n",
        "*   Does the proton decay into other particles?\n",
        "\n",
        "Want to learn more? Go to the [Dune Webpage](https://www.dunescience.org/)"
      ],
      "metadata": {
        "id": "hfUYi1IyzBTb"
      }
    },
    {
      "cell_type": "markdown",
      "source": [
        "# Evaluation"
      ],
      "metadata": {
        "id": "R_e647j6usIX"
      }
    },
    {
      "cell_type": "markdown",
      "source": [
        "## Evaluation Rubric:\n",
        "\n",
        "Each answer will be evaluated on the following **two criteria**, each worth up to 4 points:\n",
        "\n",
        "- **Scientific Knowledge**: Accuracy, depth, and relevance of the scientific explanation.\n",
        "- **Language Use**: Clarity, grammar, spelling, punctuation, and overall writing quality.\n",
        "\n",
        "| Score | Scientific Knowledge | Language Use |\n",
        "|:-----:|:---------------------|:-------------|\n",
        "| **4** | Accurate and complete explanation <br> with deep conceptual understanding. | Clear, well-structured sentences <br> with no grammar or spelling errors. |\n",
        "| **3** | Mostly correct explanation;<br> some minor errors or shallow reasoning. | Generally clear; minor grammar<br> or spelling issues. |\n",
        "| **2** | Incomplete or partially incorrect <br>explanation; shows misconceptions. | Several grammar or spelling errors<br> that slightly impact clarity. |\n",
        "| **1** | Incorrect or missing explanation; <br>no clear understanding. | Grammar and spelling errors seriously <br>hinder comprehension. |\n"
      ],
      "metadata": {
        "id": "W_6eGTi_uwGb"
      }
    },
    {
      "cell_type": "markdown",
      "source": [
        "## Grading Sheet:\n",
        "\n",
        "Each question is graded out of **8 points** (4 points per criterion).\n",
        "\n",
        "| # | Question | Scientific Knowledge | Language Use | Total (8) |\n",
        "|----|----------|----------------------|---------------|------------|\n",
        "| 1 | Describe the plot |  |  |  |\n",
        "| 2 | Interval of acceleration |  |  |  |\n",
        "| 3 | Interval of constant speed |  |  |  |\n",
        "| 4 | Why is the graph decreasing? |  |  |  |\n",
        "| 5 | Graph increasing or decreasing? |  |  |  |\n",
        "| 6 | What does the slope represent? |  |  |  |\n",
        "| 7 | Why is distance negative? |  |  |  |\n",
        "| 8 | Duration at constant speed (s/min) |  |  |  |\n",
        "| 9 | Average velocity |  |  |  |\n",
        "| 10 | Depth of elevator (km) |  |  |  |\n",
        "| 11 | Fit line accuracy |  |  |  |\n",
        "| 12 | Describe the graph and its meaning |  |  |  |\n",
        "| 13 | Is speed changing? |  |  |  |\n",
        "| 14 | Final speed at destination |  |  |  |\n",
        "\n",
        "**Final Score:** ________ / 112"
      ],
      "metadata": {
        "id": "NVeG6PVuveg2"
      }
    },
    {
      "cell_type": "markdown",
      "source": [
        "---  \n",
        "# Saving Your Work  \n",
        "This is running on a Google server on a distant planet and deletes what you've done when you close this tab. To save your work for later use or analysis you have a few options:  \n",
        "- File > \"Save a copy in Drive\" will save it to you Google Drive in a folder called \"Collaboratory\". You can run it later from there.\n",
        "- File > \"Save a copy in GitHub\" will save it to your GitHub account and can be opened in Colab later using File > Open > Github.\n",
        "- File > \"Download .ipynb\" to save to your computer (and run with Jupyter software later)  \n",
        "- File > Print to ... um ... print.  \n",
        "- To save an image of a graph or chart, right-click on it and select Save Image as ...  \n",
        "\n",
        "## Credits\n",
        "This notebook was created by Hugo J. Delgado-Martí hugojdm@gmail.com during [2025 Coding Camp 1](https://docs.google.com/document/d/1fugVk_D3LUPeFzRb7H_JEdtvUpsloKevKI563nuLMzI/edit?tab=t.0#heading=h.6hkgsa7yanvg) as an implementation sample based on the [Position Graphs Extended](https://colab.research.google.com/github/Peter-Apps/coding-camp/blob/main/Position_Graphs_Extended.ipynb) Google Colaborate Notebook. The rubric and evaluation tables were created using ChatGpt with the following prompt:\n",
        "\n",
        "*I have a student assignment with a set of short-answer questions. I want to evaluate each response using a rubric with only two criteria:*\n",
        "\n",
        "*Scientific Knowledge*\n",
        "\n",
        "*Language Use (combining grammar, spelling, punctuation, and clarity).*\n",
        "\n",
        "*Each criterion should be worth up to 4 points, for a total of 8 points per question.*\n",
        "\n",
        "*Please create two outputs:*\n",
        "\n",
        "*A rubric in Markdown format for a Google Colab text cell, with a table showing the meaning of each score (1 to 4) for both criteria. A grading sheet in Markdown format for a Google Colab text cell. The sheet should list each question in a table with columns for \"Scientific Knowledge\", \"Language Use\", and \"Total (8)\". Use text wrapping-friendly formatting and assume there are 14 questions.*\n",
        "\n",
        "*Do not use HTML tables or code blocks unless necessary—this is for  pasting into Google Colab text cells using Markdown.*"
      ],
      "metadata": {
        "id": "oQrKGhOI424j"
      }
    }
  ]
}